{
 "cells": [
  {
   "cell_type": "code",
   "execution_count": 1,
   "source": [
    "import time\n",
    "from selenium import webdriver\n",
    "from selenium.webdriver.common.action_chains import ActionChains"
   ],
   "outputs": [],
   "metadata": {}
  },
  {
   "cell_type": "code",
   "execution_count": 2,
   "source": [
    "options = webdriver.ChromeOptions()\n",
    "options.add_argument(\"--window-size=1920,1080\")\n",
    "options.add_argument(\"--headless\")"
   ],
   "outputs": [],
   "metadata": {}
  },
  {
   "cell_type": "code",
   "execution_count": 3,
   "source": [
    "driver = webdriver.Chrome(options=options)\n",
    "driver.maximize_window()"
   ],
   "outputs": [],
   "metadata": {}
  },
  {
   "cell_type": "code",
   "execution_count": 4,
   "source": [
    "driver.get(\"https://lazada.sg\")\n",
    "time.sleep(15)"
   ],
   "outputs": [],
   "metadata": {}
  },
  {
   "cell_type": "code",
   "execution_count": 5,
   "source": [
    "driver.save_screenshot(\"1.png\")"
   ],
   "outputs": [
    {
     "output_type": "execute_result",
     "data": {
      "text/plain": [
       "True"
      ]
     },
     "metadata": {},
     "execution_count": 5
    }
   ],
   "metadata": {}
  },
  {
   "cell_type": "code",
   "execution_count": 6,
   "source": [
    "driver.find_element_by_xpath(\"//a[@class='card-fs-content-button J_ShopMoreBtn']\").click()\n",
    "time.sleep(15)"
   ],
   "outputs": [],
   "metadata": {}
  },
  {
   "cell_type": "code",
   "execution_count": 7,
   "source": [
    "driver.save_screenshot(\"1.png\")"
   ],
   "outputs": [
    {
     "output_type": "execute_result",
     "data": {
      "text/plain": [
       "True"
      ]
     },
     "metadata": {},
     "execution_count": 7
    }
   ],
   "metadata": {}
  },
  {
   "cell_type": "code",
   "execution_count": 8,
   "source": [
    "pagination_xpath = \"//div[@class='item-list-content clearfix']\"\n",
    "pagination = driver.find_elements_by_xpath(pagination_xpath)\n",
    "pagination"
   ],
   "outputs": [
    {
     "output_type": "execute_result",
     "data": {
      "text/plain": [
       "[<selenium.webdriver.remote.webelement.WebElement (session=\"61f5d3f88d8c69bc09bea664eb43253d\", element=\"0.8603648962318797-1\")>,\n",
       " <selenium.webdriver.remote.webelement.WebElement (session=\"61f5d3f88d8c69bc09bea664eb43253d\", element=\"0.8603648962318797-2\")>]"
      ]
     },
     "metadata": {},
     "execution_count": 8
    }
   ],
   "metadata": {}
  },
  {
   "cell_type": "code",
   "execution_count": 9,
   "source": [
    "all_items = []"
   ],
   "outputs": [],
   "metadata": {}
  },
  {
   "cell_type": "code",
   "execution_count": 11,
   "source": [
    "import datetime\n",
    "import dateutil.parser"
   ],
   "outputs": [],
   "metadata": {}
  },
  {
   "cell_type": "code",
   "execution_count": 13,
   "source": [
    "i=0"
   ],
   "outputs": [],
   "metadata": {}
  },
  {
   "cell_type": "code",
   "execution_count": 14,
   "source": [
    "date = str(datetime.date.today() + datetime.timedelta(days=i))\n",
    "date_time = date + \" 00:00\" \n",
    "sale_datetime = str(dateutil.parser.parse(date_time))"
   ],
   "outputs": [],
   "metadata": {}
  },
  {
   "cell_type": "code",
   "execution_count": 18,
   "source": [
    "loadmore_btm_xpath = \"//div[@data-spm='sale-{}']//a[@class='button J_LoadMoreButton']\".format(i + 1)"
   ],
   "outputs": [],
   "metadata": {}
  },
  {
   "cell_type": "code",
   "execution_count": 20,
   "source": [
    "while len(driver.find_elements_by_xpath(loadmore_btm_xpath)) > 0:\n",
    "    print(\"Click Button and Sleep 5 secs\")\n",
    "    driver.find_element_by_xpath(loadmore_btm_xpath).click()\n",
    "    time.sleep(5)"
   ],
   "outputs": [
    {
     "output_type": "stream",
     "name": "stdout",
     "text": [
      "Click Button and Sleep 5 secs\n"
     ]
    }
   ],
   "metadata": {}
  },
  {
   "cell_type": "code",
   "execution_count": 21,
   "source": [
    "driver.save_screenshot(\"1.png\")"
   ],
   "outputs": [
    {
     "output_type": "execute_result",
     "data": {
      "text/plain": [
       "True"
      ]
     },
     "metadata": {},
     "execution_count": 21
    }
   ],
   "metadata": {}
  },
  {
   "cell_type": "code",
   "execution_count": 22,
   "source": [
    "driver.quit()"
   ],
   "outputs": [],
   "metadata": {}
  }
 ],
 "metadata": {
  "orig_nbformat": 4,
  "language_info": {
   "name": "python",
   "version": "3.9.2",
   "mimetype": "text/x-python",
   "codemirror_mode": {
    "name": "ipython",
    "version": 3
   },
   "pygments_lexer": "ipython3",
   "nbconvert_exporter": "python",
   "file_extension": ".py"
  },
  "kernelspec": {
   "name": "python3",
   "display_name": "Python 3.9.2 64-bit ('venv': venv)"
  },
  "interpreter": {
   "hash": "783e0363f0e3673ef600e8ee0e53d759a5defeb2089ae5f980c91ed64e52f93d"
  }
 },
 "nbformat": 4,
 "nbformat_minor": 2
}