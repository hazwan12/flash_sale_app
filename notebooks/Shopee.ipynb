{
 "cells": [
  {
   "cell_type": "code",
   "execution_count": 2,
   "source": [
    "import time\n",
    "from selenium import webdriver\n",
    "from selenium.webdriver.common.action_chains import ActionChains"
   ],
   "outputs": [],
   "metadata": {}
  },
  {
   "cell_type": "code",
   "execution_count": 5,
   "source": [
    "options = webdriver.ChromeOptions()\n",
    "options.add_argument(\"--window-size=1920,1080\")\n",
    "options.add_argument(\"--headless\")"
   ],
   "outputs": [],
   "metadata": {}
  },
  {
   "cell_type": "code",
   "execution_count": 6,
   "source": [
    "driver = webdriver.Chrome(options=options)\n",
    "driver.maximize_window()"
   ],
   "outputs": [],
   "metadata": {}
  },
  {
   "cell_type": "code",
   "execution_count": 7,
   "source": [
    "driver.get(\"https://shopee.sg/\")"
   ],
   "outputs": [],
   "metadata": {}
  },
  {
   "cell_type": "code",
   "execution_count": 12,
   "source": [
    "driver.find_element_by_xpath('//div[@class=\"shopee-popup__close-btn\"]').click()"
   ],
   "outputs": [],
   "metadata": {}
  },
  {
   "cell_type": "code",
   "execution_count": 14,
   "source": [
    "# Find Flash Sale Link\n",
    "driver.find_element_by_xpath('//*[@id=\"main\"]/div/div[2]/div[2]/div[2]/div[4]/div[2]/div/div[1]/a').click()"
   ],
   "outputs": [],
   "metadata": {}
  },
  {
   "cell_type": "code",
   "execution_count": 15,
   "source": [
    "driver.save_screenshot(\"3.png\")"
   ],
   "outputs": [
    {
     "output_type": "execute_result",
     "data": {
      "text/plain": [
       "True"
      ]
     },
     "metadata": {},
     "execution_count": 15
    }
   ],
   "metadata": {}
  },
  {
   "cell_type": "code",
   "execution_count": 41,
   "source": [
    "flash_sale_card_xpath = '//div[@class=\"flash-sale-item-card flash-sale-item-card--landing-page flash-sale-item-card--SG\"]'"
   ],
   "outputs": [],
   "metadata": {}
  },
  {
   "cell_type": "code",
   "execution_count": 42,
   "source": [
    "page_footer = driver.find_element_by_xpath('//footer[@class=\"Pca2IN _3sSQpy\"]')"
   ],
   "outputs": [],
   "metadata": {}
  },
  {
   "cell_type": "code",
   "execution_count": 43,
   "source": [
    "# Check if no of items prev yield = newy loaded no of items\n",
    "# if no repeat hover and check again till is equal\n",
    "items = []\n",
    "while len(items) < len(driver.find_elements_by_xpath(flash_sale_card_xpath)):\n",
    "    items = driver.find_elements_by_xpath(flash_sale_card_xpath)\n",
    "    # Hover over page footer to load the dynamically load the rest of page\n",
    "    ActionChains(driver).move_to_element(page_footer).perform()\n",
    "    time.sleep(5)"
   ],
   "outputs": [],
   "metadata": {}
  },
  {
   "cell_type": "code",
   "execution_count": 44,
   "source": [
    "result = []\n",
    "for i in range(1, len(items) + 1):\n",
    "    flash_sale_card_i_xpath = '{}[{}]'.format(flash_sale_card_xpath, i)\n",
    "    result.append({\n",
    "        \"Name\" : driver.find_element_by_xpath('{}//div[@class=\"flash-sale-item-card__item-name-box\"]'.format(flash_sale_card_i_xpath)).text,\n",
    "        \"Original Price\" : driver.find_element_by_xpath('{}//div[@class=\"flash-sale-item-card__original-price flash-sale-item-card__original-price--landing-page\"]//span[@class=\"item-price-number\"]'.format(flash_sale_card_i_xpath)).text,\n",
    "        \"Discounted Price\" : driver.find_element_by_xpath('{}//div[@class=\"flash-sale-item-card__current-price flash-sale-item-card__current-price--landing-page\"]//span[@class=\"item-price-number\"]'.format(flash_sale_card_i_xpath)).text,\n",
    "        \"Url\" : driver.find_element_by_xpath('{}//a[@class=\"flash-sale-item-card-link\"]'.format(flash_sale_card_i_xpath)).get_attribute('href')\n",
    "    })"
   ],
   "outputs": [],
   "metadata": {}
  },
  {
   "cell_type": "code",
   "execution_count": 47,
   "source": [
    "import pandas as pd\n",
    "df = pd.DataFrame(result)"
   ],
   "outputs": [],
   "metadata": {}
  },
  {
   "cell_type": "code",
   "execution_count": 52,
   "source": [
    "df"
   ],
   "outputs": [
    {
     "output_type": "execute_result",
     "data": {
      "text/plain": [
       "                                                  Name  ...                                                Url\n",
       "0    konWomen Summer Solid Color Color T-shirt Shor...  ...  https://shopee.sg/konWomen-Summer-Solid-Color-...\n",
       "1    Modal Designed Short Sleeves Tops T-shirts Cro...  ...  https://shopee.sg/Modal-Designed-Short-Sleeves...\n",
       "2    Women's Crimping Denim Shorts Korean Slim High...  ...  https://shopee.sg/Women's-Crimping-Denim-Short...\n",
       "3    Xiaozhainv 7 colors Korean Loose Casual Simpli...  ...  https://shopee.sg/Xiaozhainv-7-colors-Korean-L...\n",
       "4    V-neck Solid Color T-shirt Short-sleeved Women...  ...  https://shopee.sg/V-neck-Solid-Color-T-shirt-S...\n",
       "..                                                 ...  ...                                                ...\n",
       "253  Dumex Mamil Gold Stage 3 Growing Up Kid Milk F...  ...  https://shopee.sg/Dumex-Mamil-Gold-Stage-3-Gro...\n",
       "254  Cetaphil Baby Ultra Moisturizing Bath And Wash...  ...  https://shopee.sg/Cetaphil-Baby-Ultra-Moisturi...\n",
       "255  Holistic Way Skin Detox - Natural Skin Purifyi...  ...  https://shopee.sg/Holistic-Way-Skin-Detox-Natu...\n",
       "256  (Bundle of 3) Dettol Disinfectant Laundry Sani...  ...  https://shopee.sg/(Bundle-of-3)-Dettol-Disinfe...\n",
       "257             aNueNue Ukulele/Guitar Strap (ANN-ASD)  ...  https://shopee.sg/aNueNue-Ukulele-Guitar-Strap...\n",
       "\n",
       "[258 rows x 4 columns]"
      ],
      "text/html": [
       "<div>\n",
       "<style scoped>\n",
       "    .dataframe tbody tr th:only-of-type {\n",
       "        vertical-align: middle;\n",
       "    }\n",
       "\n",
       "    .dataframe tbody tr th {\n",
       "        vertical-align: top;\n",
       "    }\n",
       "\n",
       "    .dataframe thead th {\n",
       "        text-align: right;\n",
       "    }\n",
       "</style>\n",
       "<table border=\"1\" class=\"dataframe\">\n",
       "  <thead>\n",
       "    <tr style=\"text-align: right;\">\n",
       "      <th></th>\n",
       "      <th>Name</th>\n",
       "      <th>Original Price</th>\n",
       "      <th>Discounted Price</th>\n",
       "      <th>Url</th>\n",
       "    </tr>\n",
       "  </thead>\n",
       "  <tbody>\n",
       "    <tr>\n",
       "      <th>0</th>\n",
       "      <td>konWomen Summer Solid Color Color T-shirt Shor...</td>\n",
       "      <td>6.63</td>\n",
       "      <td>4.50</td>\n",
       "      <td>https://shopee.sg/konWomen-Summer-Solid-Color-...</td>\n",
       "    </tr>\n",
       "    <tr>\n",
       "      <th>1</th>\n",
       "      <td>Modal Designed Short Sleeves Tops T-shirts Cro...</td>\n",
       "      <td>18.40</td>\n",
       "      <td>5.50</td>\n",
       "      <td>https://shopee.sg/Modal-Designed-Short-Sleeves...</td>\n",
       "    </tr>\n",
       "    <tr>\n",
       "      <th>2</th>\n",
       "      <td>Women's Crimping Denim Shorts Korean Slim High...</td>\n",
       "      <td>16.00</td>\n",
       "      <td>9.80</td>\n",
       "      <td>https://shopee.sg/Women's-Crimping-Denim-Short...</td>\n",
       "    </tr>\n",
       "    <tr>\n",
       "      <th>3</th>\n",
       "      <td>Xiaozhainv 7 colors Korean Loose Casual Simpli...</td>\n",
       "      <td>17.46</td>\n",
       "      <td>9.00</td>\n",
       "      <td>https://shopee.sg/Xiaozhainv-7-colors-Korean-L...</td>\n",
       "    </tr>\n",
       "    <tr>\n",
       "      <th>4</th>\n",
       "      <td>V-neck Solid Color T-shirt Short-sleeved Women...</td>\n",
       "      <td>9.81</td>\n",
       "      <td>4.50</td>\n",
       "      <td>https://shopee.sg/V-neck-Solid-Color-T-shirt-S...</td>\n",
       "    </tr>\n",
       "    <tr>\n",
       "      <th>...</th>\n",
       "      <td>...</td>\n",
       "      <td>...</td>\n",
       "      <td>...</td>\n",
       "      <td>...</td>\n",
       "    </tr>\n",
       "    <tr>\n",
       "      <th>253</th>\n",
       "      <td>Dumex Mamil Gold Stage 3 Growing Up Kid Milk F...</td>\n",
       "      <td>71.00</td>\n",
       "      <td>64.90</td>\n",
       "      <td>https://shopee.sg/Dumex-Mamil-Gold-Stage-3-Gro...</td>\n",
       "    </tr>\n",
       "    <tr>\n",
       "      <th>254</th>\n",
       "      <td>Cetaphil Baby Ultra Moisturizing Bath And Wash...</td>\n",
       "      <td>13.50</td>\n",
       "      <td>10.20</td>\n",
       "      <td>https://shopee.sg/Cetaphil-Baby-Ultra-Moisturi...</td>\n",
       "    </tr>\n",
       "    <tr>\n",
       "      <th>255</th>\n",
       "      <td>Holistic Way Skin Detox - Natural Skin Purifyi...</td>\n",
       "      <td>48.00</td>\n",
       "      <td>27.36</td>\n",
       "      <td>https://shopee.sg/Holistic-Way-Skin-Detox-Natu...</td>\n",
       "    </tr>\n",
       "    <tr>\n",
       "      <th>256</th>\n",
       "      <td>(Bundle of 3) Dettol Disinfectant Laundry Sani...</td>\n",
       "      <td>41.85</td>\n",
       "      <td>32.35</td>\n",
       "      <td>https://shopee.sg/(Bundle-of-3)-Dettol-Disinfe...</td>\n",
       "    </tr>\n",
       "    <tr>\n",
       "      <th>257</th>\n",
       "      <td>aNueNue Ukulele/Guitar Strap (ANN-ASD)</td>\n",
       "      <td>18.00</td>\n",
       "      <td>13.70</td>\n",
       "      <td>https://shopee.sg/aNueNue-Ukulele-Guitar-Strap...</td>\n",
       "    </tr>\n",
       "  </tbody>\n",
       "</table>\n",
       "<p>258 rows × 4 columns</p>\n",
       "</div>"
      ]
     },
     "metadata": {},
     "execution_count": 52
    }
   ],
   "metadata": {}
  },
  {
   "cell_type": "code",
   "execution_count": 54,
   "source": [
    "flash_sale_time_xpath = '//div[@class=\"image-carousel\"]'"
   ],
   "outputs": [],
   "metadata": {}
  },
  {
   "cell_type": "code",
   "execution_count": 56,
   "source": [
    "driver.find_element_by_xpath(flash_sale_time_xpath).text"
   ],
   "outputs": [
    {
     "output_type": "execute_result",
     "data": {
      "text/plain": [
       "'22:00\\nOngoing\\n23:00\\nComing Soon\\n00:00\\nTomorrow\\n10:00\\nTomorrow\\n12:00\\nTomorrow'"
      ]
     },
     "metadata": {},
     "execution_count": 56
    }
   ],
   "metadata": {}
  }
 ],
 "metadata": {
  "kernelspec": {
   "display_name": "Python 3",
   "language": "python",
   "name": "python3"
  },
  "language_info": {
   "codemirror_mode": {
    "name": "ipython",
    "version": 3
   },
   "file_extension": ".py",
   "mimetype": "text/x-python",
   "name": "python",
   "nbconvert_exporter": "python",
   "pygments_lexer": "ipython3",
   "version": "3.8.8"
  }
 },
 "nbformat": 4,
 "nbformat_minor": 5
}